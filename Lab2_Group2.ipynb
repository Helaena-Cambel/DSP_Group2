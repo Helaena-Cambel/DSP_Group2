{
 "cells": [
  {
   "cell_type": "code",
   "execution_count": 1,
   "id": "7565ae2f-29a5-479f-b874-de4dcb527f92",
   "metadata": {},
   "outputs": [],
   "source": [
    "##Number 1"
   ]
  },
  {
   "cell_type": "code",
   "execution_count": 2,
   "id": "35f51f24-387b-4598-926c-e323784476c5",
   "metadata": {},
   "outputs": [],
   "source": [
    "import numpy as np"
   ]
  },
  {
   "cell_type": "code",
   "execution_count": 3,
   "id": "b91f8370-7cd3-431a-a52a-1ae4e87fbde3",
   "metadata": {},
   "outputs": [],
   "source": [
    "A = np.array([[1, 1, 1, 1], [2, -1, 3, 4], [-3, 2, -2, 5], [1, -1, 4, -1]])\n",
    "B = np.array([10, 8, -3, 5])"
   ]
  },
  {
   "cell_type": "code",
   "execution_count": 4,
   "id": "9507a2aa-6b9d-49e5-8457-75ed0bcd50b0",
   "metadata": {},
   "outputs": [],
   "source": [
    "ans = np.linalg.solve(A, B)"
   ]
  },
  {
   "cell_type": "code",
   "execution_count": 5,
   "id": "e96ed8f8-f4e4-4678-aadc-87963b3b35b5",
   "metadata": {},
   "outputs": [
    {
     "data": {
      "text/plain": [
       "array([3.44339623, 4.69811321, 1.62264151, 0.23584906])"
      ]
     },
     "execution_count": 5,
     "metadata": {},
     "output_type": "execute_result"
    }
   ],
   "source": [
    "ans"
   ]
  },
  {
   "cell_type": "code",
   "execution_count": 6,
   "id": "18346d82-0788-41cf-b5d6-edb1d0e9f44b",
   "metadata": {},
   "outputs": [],
   "source": [
    "##Number 2\n",
    "\n",
    "##import numpy as np"
   ]
  },
  {
   "cell_type": "code",
   "execution_count": 7,
   "id": "24077790-b514-457c-857e-0a5d84bf27f6",
   "metadata": {},
   "outputs": [],
   "source": [
    "A = np.array([[2, 1, 3], [1, 2, 1], [3, 1, 2]])  "
   ]
  },
  {
   "cell_type": "code",
   "execution_count": 8,
   "id": "50503057-d1aa-4616-a538-f6842c9f016e",
   "metadata": {},
   "outputs": [],
   "source": [
    "A_inv = np.linalg.inv(A)"
   ]
  },
  {
   "cell_type": "code",
   "execution_count": 9,
   "id": "64a48089-21cc-459f-a14f-07a0e22f5ec2",
   "metadata": {},
   "outputs": [
    {
     "name": "stdout",
     "output_type": "stream",
     "text": [
      "[[-0.375 -0.125  0.625]\n",
      " [-0.125  0.625 -0.125]\n",
      " [ 0.625 -0.125 -0.375]]\n"
     ]
    }
   ],
   "source": [
    "print(A_inv)"
   ]
  },
  {
   "cell_type": "code",
   "execution_count": 10,
   "id": "2cb3bc8a-c134-44eb-915d-209f0eec3511",
   "metadata": {},
   "outputs": [],
   "source": [
    "##Number 2"
   ]
  },
  {
   "cell_type": "code",
   "execution_count": 11,
   "id": "12a3d456-16b3-41e4-bb02-c5ca2e060f74",
   "metadata": {},
   "outputs": [
    {
     "name": "stdout",
     "output_type": "stream",
     "text": [
      "0.00967741935483871 0.004193548387096773 0.013870967741935485\n",
      "12.000000000000002\n",
      "15.0\n"
     ]
    }
   ],
   "source": [
    "I = np.array([[1500,-600,0],[0,600,900],[1,1,-1]])\n",
    "V = np.array([12,15,0])\n",
    "\n",
    "CV = np.linalg.solve (I,V)\n",
    "\n",
    "I1, I2, I3 = CV\n",
    "\n",
    "print (I1, I2, I3)\n",
    "print ((I1*1500)-(I2*600))\n",
    "print ((I2*600)+(I3*900))"
   ]
  },
  {
   "cell_type": "code",
   "execution_count": null,
   "id": "68e7294f-d82b-43a1-ab59-f68923246e5e",
   "metadata": {},
   "outputs": [],
   "source": []
  },
  {
   "cell_type": "code",
   "execution_count": null,
   "id": "16ce847d-f85a-4617-822e-f8a4012f47a9",
   "metadata": {},
   "outputs": [],
   "source": []
  }
 ],
 "metadata": {
  "kernelspec": {
   "display_name": "Python 3 (ipykernel)",
   "language": "python",
   "name": "python3"
  },
  "language_info": {
   "codemirror_mode": {
    "name": "ipython",
    "version": 3
   },
   "file_extension": ".py",
   "mimetype": "text/x-python",
   "name": "python",
   "nbconvert_exporter": "python",
   "pygments_lexer": "ipython3",
   "version": "3.11.9"
  }
 },
 "nbformat": 4,
 "nbformat_minor": 5
}
