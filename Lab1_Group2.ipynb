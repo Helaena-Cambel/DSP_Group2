{
 "cells": [
  {
   "cell_type": "code",
   "execution_count": 1,
   "id": "017293f6-0b20-4095-a352-bf3eae4fddc2",
   "metadata": {},
   "outputs": [],
   "source": [
    "#Create a grade calculator that computes for the semestral grade of a course.\n",
    "#Students could type their names, the name of the course, then their prelim, midterm, and final grade.\n",
    "#The program should print the semestral grade in 2 decimal points and \n",
    "#should display the following emojis depending on the situation:\n",
    "#happy - when grade is greater than 70.00\n",
    "#laughing - when grade is exactly 70.00\n",
    "#sad - when grade is below 70.00"
   ]
  },
  {
   "cell_type": "code",
   "execution_count": 2,
   "id": "a55da506-d4d3-4fd1-ab2f-519501904c03",
   "metadata": {},
   "outputs": [
    {
     "name": "stdin",
     "output_type": "stream",
     "text": [
      "Enter your name:  Tanggol\n"
     ]
    }
   ],
   "source": [
    "name = input(\"Enter your name: \")"
   ]
  },
  {
   "cell_type": "code",
   "execution_count": 3,
   "id": "ecb86ade-e132-42b2-953f-dd0998afc559",
   "metadata": {},
   "outputs": [
    {
     "name": "stdin",
     "output_type": "stream",
     "text": [
      "Enter your course:  BS Computer Engineering\n"
     ]
    }
   ],
   "source": [
    "course = input(\"Enter your course: \")"
   ]
  },
  {
   "cell_type": "code",
   "execution_count": 4,
   "id": "c4b02200-d3ea-445b-9184-bfe40b4f05be",
   "metadata": {},
   "outputs": [
    {
     "name": "stdin",
     "output_type": "stream",
     "text": [
      "Enter your prelim grade:  91.64\n"
     ]
    }
   ],
   "source": [
    "prelim = float(input(\"Enter your prelim grade: \"))"
   ]
  },
  {
   "cell_type": "code",
   "execution_count": 5,
   "id": "7554d55a-4079-4da8-beeb-20eed805880a",
   "metadata": {},
   "outputs": [
    {
     "name": "stdin",
     "output_type": "stream",
     "text": [
      "Enter your midterm grade:  90.8\n"
     ]
    }
   ],
   "source": [
    "midterm = float(input(\"Enter your midterm grade: \"))"
   ]
  },
  {
   "cell_type": "code",
   "execution_count": 6,
   "id": "df20ae9c-38ce-4c71-93e2-4177769f8ff5",
   "metadata": {},
   "outputs": [
    {
     "name": "stdin",
     "output_type": "stream",
     "text": [
      "Enter your final grade:  93.10\n"
     ]
    }
   ],
   "source": [
    "final = float(input(\"Enter your final grade: \"))"
   ]
  },
  {
   "cell_type": "code",
   "execution_count": 7,
   "id": "7f656724-5258-4edd-b73d-0f692db63c30",
   "metadata": {},
   "outputs": [
    {
     "name": "stdout",
     "output_type": "stream",
     "text": [
      "Name: Tanggol\n",
      "Course: BS Computer Engineering\n",
      "Semestral Grade: 91.97\n",
      "Grade Point Equivalent: 1.50\n",
      "😄\n"
     ]
    }
   ],
   "source": [
    "happy, lol, sad = \"😄\", \"🤣\", \"😞\"\n",
    "sem_grade = (prelim * 0.30) + (midterm * 0.30) + (final * 0.40)\n",
    "\n",
    "print(f\"Name: {name}\")\n",
    "print(f\"Course: {course}\")\n",
    "print(f\"Semestral Grade: {sem_grade:.2f}\")\n",
    "\n",
    "if sem_grade >= 97.00:\n",
    "    print(\"Grade Point Equivalent: 1.00\")\n",
    "    print(happy)\n",
    "elif sem_grade >= 93.00:\n",
    "    print(\"Grade Point Equivalent: 1.25\")\n",
    "    print(happy)\n",
    "elif sem_grade >= 89.00:\n",
    "    print(\"Grade Point Equivalent: 1.50\")\n",
    "    print(happy)\n",
    "elif sem_grade >= 85.00:\n",
    "    print(\"Grade Point Equivalent: 1.75\")\n",
    "    print(happy)\n",
    "elif sem_grade >= 82.00:\n",
    "    print(\"Grade Point Equivalent: 2.00\")\n",
    "    print(happy)\n",
    "elif sem_grade >= 79.00:\n",
    "    print(\"Grade Point Equivalent: 2.25\")\n",
    "    print(happy)\n",
    "elif sem_grade >= 76.00:\n",
    "    print(\"Grade Point Equivalent: 2.50\")\n",
    "    print(happy)\n",
    "elif sem_grade >= 73.00:\n",
    "    print(\"Grade Point Equivalent: 2.75\")\n",
    "    print(happy)\n",
    "elif sem_grade >= 70.00:\n",
    "    print(\"Grade Point Equivalent: 3.00\")\n",
    "    print(lol)\n",
    "else:\n",
    "    print(\"Grade Point Equivalent: 5.00\")\n",
    "    print(sad)"
   ]
  },
  {
   "cell_type": "code",
   "execution_count": null,
   "id": "f2b8aed5-a664-4ac5-839d-9d3fee14ca16",
   "metadata": {},
   "outputs": [],
   "source": []
  }
 ],
 "metadata": {
  "kernelspec": {
   "display_name": "Python 3 (ipykernel)",
   "language": "python",
   "name": "python3"
  },
  "language_info": {
   "codemirror_mode": {
    "name": "ipython",
    "version": 3
   },
   "file_extension": ".py",
   "mimetype": "text/x-python",
   "name": "python",
   "nbconvert_exporter": "python",
   "pygments_lexer": "ipython3",
   "version": "3.11.9"
  }
 },
 "nbformat": 4,
 "nbformat_minor": 5
}
